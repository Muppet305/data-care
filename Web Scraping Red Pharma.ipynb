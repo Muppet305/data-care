{
 "cells": [
  {
   "cell_type": "code",
   "execution_count": 1,
   "metadata": {},
   "outputs": [],
   "source": [
    "from selenium import webdriver\n",
    "from selenium.webdriver.chrome.options import Options\n",
    "from selenium.webdriver.chrome.service import Service\n",
    "from selenium.webdriver.common.by import By\n",
    "from selenium.common.exceptions import NoSuchElementException \n",
    "import time\n",
    "import pandas as pd\n",
    "import numpy as np\n",
    "from selenium import webdriver\n",
    "from webdriver_manager.chrome import ChromeDriverManager"
   ]
  },
  {
   "cell_type": "code",
   "execution_count": 2,
   "metadata": {
    "scrolled": false
   },
   "outputs": [],
   "source": [
    "#defining the chrome driver\n",
    "\n",
    "\n",
    "\n",
    "ser = Service(\"chromedriver\")\n",
    "options = Options()\n",
    "options.headless = True\n",
    "options.add_argument(\"--window-size=1920,1200\")\n",
    "\n",
    "driver = webdriver.Chrome(options = options)\n",
    "driver_links = webdriver.Chrome(options=options)\n",
    "driver_2 = webdriver.Chrome(options=options)"
   ]
  },
  {
   "cell_type": "code",
   "execution_count": 3,
   "metadata": {
    "collapsed": true
   },
   "outputs": [
    {
     "name": "stdout",
     "output_type": "stream",
     "text": [
      "hi\n",
      "[<selenium.webdriver.remote.webelement.WebElement (session=\"ef8b03a50be95cb610b7e108fe765d86\", element=\"7397bff1-1f61-4954-8113-c570a71c7392\")>, <selenium.webdriver.remote.webelement.WebElement (session=\"ef8b03a50be95cb610b7e108fe765d86\", element=\"d936865f-16de-41d1-baf0-a771c7f31c9a\")>, <selenium.webdriver.remote.webelement.WebElement (session=\"ef8b03a50be95cb610b7e108fe765d86\", element=\"4b182c3e-fb7d-4c1f-aff8-c4114a700f72\")>, <selenium.webdriver.remote.webelement.WebElement (session=\"ef8b03a50be95cb610b7e108fe765d86\", element=\"c3d609ed-2588-4303-aeea-24585f15ac7c\")>, <selenium.webdriver.remote.webelement.WebElement (session=\"ef8b03a50be95cb610b7e108fe765d86\", element=\"de0e0c4b-fd1e-4af7-89dd-1a5c79ff0146\")>, <selenium.webdriver.remote.webelement.WebElement (session=\"ef8b03a50be95cb610b7e108fe765d86\", element=\"4fb3e2f5-cde1-4855-92ee-25fb7d923257\")>, <selenium.webdriver.remote.webelement.WebElement (session=\"ef8b03a50be95cb610b7e108fe765d86\", element=\"ee4f54fd-16c8-42e2-95da-8a33228a2a36\")>, <selenium.webdriver.remote.webelement.WebElement (session=\"ef8b03a50be95cb610b7e108fe765d86\", element=\"2a3742da-c6c4-44da-bb8b-c8d25a7ba849\")>]\n",
      "https://www.redfarma.cl/productos?familia=MEDICAMENTOS&pagina=1\n",
      "https://www.redfarma.cl/productos/ABECIDIN-ACD-GOTAS-DE-30-ML/123-0066\n",
      "[<selenium.webdriver.remote.webelement.WebElement (session=\"ef8b03a50be95cb610b7e108fe765d86\", element=\"7397bff1-1f61-4954-8113-c570a71c7392\")>, <selenium.webdriver.remote.webelement.WebElement (session=\"ef8b03a50be95cb610b7e108fe765d86\", element=\"d936865f-16de-41d1-baf0-a771c7f31c9a\")>, <selenium.webdriver.remote.webelement.WebElement (session=\"ef8b03a50be95cb610b7e108fe765d86\", element=\"4b182c3e-fb7d-4c1f-aff8-c4114a700f72\")>, <selenium.webdriver.remote.webelement.WebElement (session=\"ef8b03a50be95cb610b7e108fe765d86\", element=\"c3d609ed-2588-4303-aeea-24585f15ac7c\")>, <selenium.webdriver.remote.webelement.WebElement (session=\"ef8b03a50be95cb610b7e108fe765d86\", element=\"de0e0c4b-fd1e-4af7-89dd-1a5c79ff0146\")>, <selenium.webdriver.remote.webelement.WebElement (session=\"ef8b03a50be95cb610b7e108fe765d86\", element=\"4fb3e2f5-cde1-4855-92ee-25fb7d923257\")>, <selenium.webdriver.remote.webelement.WebElement (session=\"ef8b03a50be95cb610b7e108fe765d86\", element=\"ee4f54fd-16c8-42e2-95da-8a33228a2a36\")>, <selenium.webdriver.remote.webelement.WebElement (session=\"ef8b03a50be95cb610b7e108fe765d86\", element=\"2a3742da-c6c4-44da-bb8b-c8d25a7ba849\")>]\n",
      "https://www.redfarma.cl/productos/ABRILAR-35-MG-F5ML-JARABE-DE-100-ML/126-0078\n",
      "[<selenium.webdriver.remote.webelement.WebElement (session=\"ef8b03a50be95cb610b7e108fe765d86\", element=\"7397bff1-1f61-4954-8113-c570a71c7392\")>, <selenium.webdriver.remote.webelement.WebElement (session=\"ef8b03a50be95cb610b7e108fe765d86\", element=\"d936865f-16de-41d1-baf0-a771c7f31c9a\")>, <selenium.webdriver.remote.webelement.WebElement (session=\"ef8b03a50be95cb610b7e108fe765d86\", element=\"4b182c3e-fb7d-4c1f-aff8-c4114a700f72\")>, <selenium.webdriver.remote.webelement.WebElement (session=\"ef8b03a50be95cb610b7e108fe765d86\", element=\"c3d609ed-2588-4303-aeea-24585f15ac7c\")>, <selenium.webdriver.remote.webelement.WebElement (session=\"ef8b03a50be95cb610b7e108fe765d86\", element=\"de0e0c4b-fd1e-4af7-89dd-1a5c79ff0146\")>, <selenium.webdriver.remote.webelement.WebElement (session=\"ef8b03a50be95cb610b7e108fe765d86\", element=\"4fb3e2f5-cde1-4855-92ee-25fb7d923257\")>, <selenium.webdriver.remote.webelement.WebElement (session=\"ef8b03a50be95cb610b7e108fe765d86\", element=\"ee4f54fd-16c8-42e2-95da-8a33228a2a36\")>, <selenium.webdriver.remote.webelement.WebElement (session=\"ef8b03a50be95cb610b7e108fe765d86\", element=\"2a3742da-c6c4-44da-bb8b-c8d25a7ba849\")>]\n",
      "https://www.redfarma.cl/productos/ACEBRON-x20-COMPRIMIDOS-RANURADOS-DE-4-MG/136-8218\n",
      "[<selenium.webdriver.remote.webelement.WebElement (session=\"ef8b03a50be95cb610b7e108fe765d86\", element=\"7397bff1-1f61-4954-8113-c570a71c7392\")>, <selenium.webdriver.remote.webelement.WebElement (session=\"ef8b03a50be95cb610b7e108fe765d86\", element=\"d936865f-16de-41d1-baf0-a771c7f31c9a\")>, <selenium.webdriver.remote.webelement.WebElement (session=\"ef8b03a50be95cb610b7e108fe765d86\", element=\"4b182c3e-fb7d-4c1f-aff8-c4114a700f72\")>, <selenium.webdriver.remote.webelement.WebElement (session=\"ef8b03a50be95cb610b7e108fe765d86\", element=\"c3d609ed-2588-4303-aeea-24585f15ac7c\")>, <selenium.webdriver.remote.webelement.WebElement (session=\"ef8b03a50be95cb610b7e108fe765d86\", element=\"de0e0c4b-fd1e-4af7-89dd-1a5c79ff0146\")>, <selenium.webdriver.remote.webelement.WebElement (session=\"ef8b03a50be95cb610b7e108fe765d86\", element=\"4fb3e2f5-cde1-4855-92ee-25fb7d923257\")>, <selenium.webdriver.remote.webelement.WebElement (session=\"ef8b03a50be95cb610b7e108fe765d86\", element=\"ee4f54fd-16c8-42e2-95da-8a33228a2a36\")>, <selenium.webdriver.remote.webelement.WebElement (session=\"ef8b03a50be95cb610b7e108fe765d86\", element=\"2a3742da-c6c4-44da-bb8b-c8d25a7ba849\")>]\n",
      "https://www.redfarma.cl/productos/ACETAZOLAMIDA-x20-COMPRIMIDOS-DE-250-MG/090-1006\n",
      "[<selenium.webdriver.remote.webelement.WebElement (session=\"ef8b03a50be95cb610b7e108fe765d86\", element=\"7397bff1-1f61-4954-8113-c570a71c7392\")>, <selenium.webdriver.remote.webelement.WebElement (session=\"ef8b03a50be95cb610b7e108fe765d86\", element=\"d936865f-16de-41d1-baf0-a771c7f31c9a\")>, <selenium.webdriver.remote.webelement.WebElement (session=\"ef8b03a50be95cb610b7e108fe765d86\", element=\"4b182c3e-fb7d-4c1f-aff8-c4114a700f72\")>, <selenium.webdriver.remote.webelement.WebElement (session=\"ef8b03a50be95cb610b7e108fe765d86\", element=\"c3d609ed-2588-4303-aeea-24585f15ac7c\")>, <selenium.webdriver.remote.webelement.WebElement (session=\"ef8b03a50be95cb610b7e108fe765d86\", element=\"de0e0c4b-fd1e-4af7-89dd-1a5c79ff0146\")>, <selenium.webdriver.remote.webelement.WebElement (session=\"ef8b03a50be95cb610b7e108fe765d86\", element=\"4fb3e2f5-cde1-4855-92ee-25fb7d923257\")>, <selenium.webdriver.remote.webelement.WebElement (session=\"ef8b03a50be95cb610b7e108fe765d86\", element=\"ee4f54fd-16c8-42e2-95da-8a33228a2a36\")>, <selenium.webdriver.remote.webelement.WebElement (session=\"ef8b03a50be95cb610b7e108fe765d86\", element=\"2a3742da-c6c4-44da-bb8b-c8d25a7ba849\")>]\n",
      "https://www.redfarma.cl/productos/ACICLOVIR-CREMA-5-5-DE-15-GRAMO/438-0001\n",
      "[<selenium.webdriver.remote.webelement.WebElement (session=\"ef8b03a50be95cb610b7e108fe765d86\", element=\"7397bff1-1f61-4954-8113-c570a71c7392\")>, <selenium.webdriver.remote.webelement.WebElement (session=\"ef8b03a50be95cb610b7e108fe765d86\", element=\"d936865f-16de-41d1-baf0-a771c7f31c9a\")>, <selenium.webdriver.remote.webelement.WebElement (session=\"ef8b03a50be95cb610b7e108fe765d86\", element=\"4b182c3e-fb7d-4c1f-aff8-c4114a700f72\")>, <selenium.webdriver.remote.webelement.WebElement (session=\"ef8b03a50be95cb610b7e108fe765d86\", element=\"c3d609ed-2588-4303-aeea-24585f15ac7c\")>, <selenium.webdriver.remote.webelement.WebElement (session=\"ef8b03a50be95cb610b7e108fe765d86\", element=\"de0e0c4b-fd1e-4af7-89dd-1a5c79ff0146\")>, <selenium.webdriver.remote.webelement.WebElement (session=\"ef8b03a50be95cb610b7e108fe765d86\", element=\"4fb3e2f5-cde1-4855-92ee-25fb7d923257\")>, <selenium.webdriver.remote.webelement.WebElement (session=\"ef8b03a50be95cb610b7e108fe765d86\", element=\"ee4f54fd-16c8-42e2-95da-8a33228a2a36\")>, <selenium.webdriver.remote.webelement.WebElement (session=\"ef8b03a50be95cb610b7e108fe765d86\", element=\"2a3742da-c6c4-44da-bb8b-c8d25a7ba849\")>]\n",
      "https://www.redfarma.cl/productos/ACICLOVIR-x24-COMPRIMIDOS-DE-2/204-0549\n",
      "[<selenium.webdriver.remote.webelement.WebElement (session=\"ef8b03a50be95cb610b7e108fe765d86\", element=\"7397bff1-1f61-4954-8113-c570a71c7392\")>, <selenium.webdriver.remote.webelement.WebElement (session=\"ef8b03a50be95cb610b7e108fe765d86\", element=\"d936865f-16de-41d1-baf0-a771c7f31c9a\")>, <selenium.webdriver.remote.webelement.WebElement (session=\"ef8b03a50be95cb610b7e108fe765d86\", element=\"4b182c3e-fb7d-4c1f-aff8-c4114a700f72\")>, <selenium.webdriver.remote.webelement.WebElement (session=\"ef8b03a50be95cb610b7e108fe765d86\", element=\"c3d609ed-2588-4303-aeea-24585f15ac7c\")>, <selenium.webdriver.remote.webelement.WebElement (session=\"ef8b03a50be95cb610b7e108fe765d86\", element=\"de0e0c4b-fd1e-4af7-89dd-1a5c79ff0146\")>, <selenium.webdriver.remote.webelement.WebElement (session=\"ef8b03a50be95cb610b7e108fe765d86\", element=\"4fb3e2f5-cde1-4855-92ee-25fb7d923257\")>, <selenium.webdriver.remote.webelement.WebElement (session=\"ef8b03a50be95cb610b7e108fe765d86\", element=\"ee4f54fd-16c8-42e2-95da-8a33228a2a36\")>, <selenium.webdriver.remote.webelement.WebElement (session=\"ef8b03a50be95cb610b7e108fe765d86\", element=\"2a3742da-c6c4-44da-bb8b-c8d25a7ba849\")>]\n",
      "https://www.redfarma.cl/productos/ACICLOVIR-x24-COMPRIMIDOS-DE-200-MG/090-0998\n",
      "[<selenium.webdriver.remote.webelement.WebElement (session=\"ef8b03a50be95cb610b7e108fe765d86\", element=\"7397bff1-1f61-4954-8113-c570a71c7392\")>, <selenium.webdriver.remote.webelement.WebElement (session=\"ef8b03a50be95cb610b7e108fe765d86\", element=\"d936865f-16de-41d1-baf0-a771c7f31c9a\")>, <selenium.webdriver.remote.webelement.WebElement (session=\"ef8b03a50be95cb610b7e108fe765d86\", element=\"4b182c3e-fb7d-4c1f-aff8-c4114a700f72\")>, <selenium.webdriver.remote.webelement.WebElement (session=\"ef8b03a50be95cb610b7e108fe765d86\", element=\"c3d609ed-2588-4303-aeea-24585f15ac7c\")>, <selenium.webdriver.remote.webelement.WebElement (session=\"ef8b03a50be95cb610b7e108fe765d86\", element=\"de0e0c4b-fd1e-4af7-89dd-1a5c79ff0146\")>, <selenium.webdriver.remote.webelement.WebElement (session=\"ef8b03a50be95cb610b7e108fe765d86\", element=\"4fb3e2f5-cde1-4855-92ee-25fb7d923257\")>, <selenium.webdriver.remote.webelement.WebElement (session=\"ef8b03a50be95cb610b7e108fe765d86\", element=\"ee4f54fd-16c8-42e2-95da-8a33228a2a36\")>, <selenium.webdriver.remote.webelement.WebElement (session=\"ef8b03a50be95cb610b7e108fe765d86\", element=\"2a3742da-c6c4-44da-bb8b-c8d25a7ba849\")>]\n",
      "https://www.redfarma.cl/productos/ACICLOVIR-x35-COMPRIMIDOS-DE-400-MG/204-1744\n",
      "[<selenium.webdriver.remote.webelement.WebElement (session=\"ef8b03a50be95cb610b7e108fe765d86\", element=\"7397bff1-1f61-4954-8113-c570a71c7392\")>, <selenium.webdriver.remote.webelement.WebElement (session=\"ef8b03a50be95cb610b7e108fe765d86\", element=\"d936865f-16de-41d1-baf0-a771c7f31c9a\")>, <selenium.webdriver.remote.webelement.WebElement (session=\"ef8b03a50be95cb610b7e108fe765d86\", element=\"4b182c3e-fb7d-4c1f-aff8-c4114a700f72\")>, <selenium.webdriver.remote.webelement.WebElement (session=\"ef8b03a50be95cb610b7e108fe765d86\", element=\"c3d609ed-2588-4303-aeea-24585f15ac7c\")>, <selenium.webdriver.remote.webelement.WebElement (session=\"ef8b03a50be95cb610b7e108fe765d86\", element=\"de0e0c4b-fd1e-4af7-89dd-1a5c79ff0146\")>, <selenium.webdriver.remote.webelement.WebElement (session=\"ef8b03a50be95cb610b7e108fe765d86\", element=\"4fb3e2f5-cde1-4855-92ee-25fb7d923257\")>, <selenium.webdriver.remote.webelement.WebElement (session=\"ef8b03a50be95cb610b7e108fe765d86\", element=\"ee4f54fd-16c8-42e2-95da-8a33228a2a36\")>, <selenium.webdriver.remote.webelement.WebElement (session=\"ef8b03a50be95cb610b7e108fe765d86\", element=\"2a3742da-c6c4-44da-bb8b-c8d25a7ba849\")>]\n",
      "page 1 ok\n"
     ]
    },
    {
     "name": "stdout",
     "output_type": "stream",
     "text": [
      "hi\n",
      "[]\n",
      "https://www.redfarma.cl/productos?familia=MEDICAMENTOS&pagina=2\n",
      "page 2 ok\n",
      "hi\n",
      "[]\n",
      "https://www.redfarma.cl/productos?familia=MEDICAMENTOS&pagina=3\n",
      "page 3 ok\n"
     ]
    }
   ],
   "source": [
    "driver.get('https://redfarma.cl/productos?familia=MEDICAMENTOS')\n",
    "\n",
    "#pages = driver.find_element(By.XPATH,\"/html/body/div[2]/div[2]/section[2]/div[2]/div[1]/ul/li[6]/a\")\n",
    "#pages = int(pages)\n",
    "pages=3\n",
    "list_url = []\n",
    "\n",
    "for j in range(pages):\n",
    "        #n = str(j*18)\n",
    "        page = f'https://www.redfarma.cl/productos?familia=MEDICAMENTOS&pagina={j+1}'\n",
    "        driver_links.get(page)\n",
    "        list_links = driver_links.find_elements(By.XPATH,\"// div[contains(@class,'producto')]/div[contains(@class,'borde')]/div[contains(@class,'informacion-producto')]/div[contains(@class,'nombre')]/a\")\n",
    "        print(list_links)\n",
    "        print(page)\n",
    "        for i in (range(len(list_links))):\n",
    "                url = list_links[i].get_attribute('href')\n",
    "                print(url)\n",
    "                list_url.append(url)\n",
    "                print(list_links)\n",
    "\n",
    "        print(f'page {j+1} ok')         \n",
    "        time.sleep(5)\n"
   ]
  },
  {
   "cell_type": "code",
   "execution_count": 4,
   "metadata": {},
   "outputs": [
    {
     "name": "stdout",
     "output_type": "stream",
     "text": [
      "hi\n",
      "[]\n",
      "https://www.redfarma.cl/productos?familia=MEDICAMENTOS&pagina=3\n"
     ]
    },
    {
     "ename": "AttributeError",
     "evalue": "'list' object has no attribute 'get_attribute'",
     "output_type": "error",
     "traceback": [
      "\u001b[0;31m---------------------------------------------------------------------------\u001b[0m",
      "\u001b[0;31mAttributeError\u001b[0m                            Traceback (most recent call last)",
      "\u001b[0;32m/var/folders/4t/fl3hklwd6zqcmg17s5qdk5r80000gn/T/ipykernel_74959/3511543930.py\u001b[0m in \u001b[0;36m<module>\u001b[0;34m\u001b[0m\n\u001b[1;32m     14\u001b[0m \u001b[0mprint\u001b[0m\u001b[0;34m(\u001b[0m\u001b[0mlist_links\u001b[0m\u001b[0;34m)\u001b[0m\u001b[0;34m\u001b[0m\u001b[0;34m\u001b[0m\u001b[0m\n\u001b[1;32m     15\u001b[0m \u001b[0mprint\u001b[0m\u001b[0;34m(\u001b[0m\u001b[0mpage\u001b[0m\u001b[0;34m)\u001b[0m\u001b[0;34m\u001b[0m\u001b[0;34m\u001b[0m\u001b[0m\n\u001b[0;32m---> 16\u001b[0;31m \u001b[0mprint\u001b[0m\u001b[0;34m(\u001b[0m\u001b[0mlist_links\u001b[0m\u001b[0;34m.\u001b[0m\u001b[0mget_attribute\u001b[0m\u001b[0;34m(\u001b[0m\u001b[0;34m'href'\u001b[0m\u001b[0;34m)\u001b[0m\u001b[0;34m)\u001b[0m\u001b[0;34m\u001b[0m\u001b[0;34m\u001b[0m\u001b[0m\n\u001b[0m\u001b[1;32m     17\u001b[0m \u001b[0;32mfor\u001b[0m \u001b[0mi\u001b[0m \u001b[0;32min\u001b[0m \u001b[0;34m(\u001b[0m\u001b[0mrange\u001b[0m\u001b[0;34m(\u001b[0m\u001b[0mlen\u001b[0m\u001b[0;34m(\u001b[0m\u001b[0mlist_links\u001b[0m\u001b[0;34m)\u001b[0m\u001b[0;34m)\u001b[0m\u001b[0;34m)\u001b[0m\u001b[0;34m:\u001b[0m\u001b[0;34m\u001b[0m\u001b[0;34m\u001b[0m\u001b[0m\n\u001b[1;32m     18\u001b[0m     \u001b[0murl\u001b[0m \u001b[0;34m=\u001b[0m \u001b[0mlist_links\u001b[0m\u001b[0;34m[\u001b[0m\u001b[0mi\u001b[0m\u001b[0;34m]\u001b[0m\u001b[0;34m.\u001b[0m\u001b[0mget_attribute\u001b[0m\u001b[0;34m(\u001b[0m\u001b[0;34m'href'\u001b[0m\u001b[0;34m)\u001b[0m\u001b[0;34m\u001b[0m\u001b[0;34m\u001b[0m\u001b[0m\n",
      "\u001b[0;31mAttributeError\u001b[0m: 'list' object has no attribute 'get_attribute'"
     ]
    }
   ],
   "source": [
    "driver.get('https://redfarma.cl/productos?familia=MEDICAMENTOS')\n",
    "\n",
    "#pages = driver.find_element(By.XPATH,\"/html/body/div[2]/div[2]/section[2]/div[2]/div[1]/ul/li[6]/a\")\n",
    "#pages = int(pages)\n",
    "pages=3\n",
    "list_url = []\n",
    "\n",
    "\n",
    "        #n = str(j*18)\n",
    "page = f'https://www.redfarma.cl/productos?familia=MEDICAMENTOS&pagina={3}'\n",
    "driver_links.get(page)\n",
    "list_links = driver_links.find_elements(By.XPATH,\"// div[contains(@class,'producto')]/div[contains(@class,'borde')]/div[contains(@class,'informacion-producto')]/div[contains(@class,'nombre')]/a\")\n",
    "print(\"hi\")\n",
    "print(list_links)\n",
    "print(page)\n",
    "print(list_links.get_attribute('href'))\n",
    "for i in (range(len(list_links))):\n",
    "    url = list_links[i].get_attribute('href')\n",
    "    print(url)\n",
    "    list_url.append(url)\n",
    "    print(list_links)\n",
    "\n",
    "print(f'page {3} ok')         \n",
    "time.sleep(5)\n"
   ]
  },
  {
   "cell_type": "code",
   "execution_count": 14,
   "metadata": {
    "scrolled": true
   },
   "outputs": [
    {
     "data": {
      "text/plain": [
       "[]"
      ]
     },
     "execution_count": 14,
     "metadata": {},
     "output_type": "execute_result"
    }
   ],
   "source": [
    "list_links"
   ]
  },
  {
   "cell_type": "code",
   "execution_count": 15,
   "metadata": {
    "scrolled": false
   },
   "outputs": [
    {
     "data": {
      "text/plain": [
       "16"
      ]
     },
     "execution_count": 15,
     "metadata": {},
     "output_type": "execute_result"
    }
   ],
   "source": [
    "len(list_url)"
   ]
  },
  {
   "cell_type": "code",
   "execution_count": 7,
   "metadata": {},
   "outputs": [
    {
     "name": "stdout",
     "output_type": "stream",
     "text": [
      "https://www.redfarma.cl/productos?familia=MEDICAMENTOS&pagina=1\n",
      "https://www.redfarma.cl/productos?familia=MEDICAMENTOS&pagina=2\n",
      "https://www.redfarma.cl/productos?familia=MEDICAMENTOS&pagina=3\n"
     ]
    }
   ],
   "source": [
    "driver.get('https://www.redfarma.cl/productos?familia=MEDICAMENTOS')\n",
    "\n",
    "#pages = driver.find_element(By.XPATH,\"/html/body/div[2]/div[2]/section[2]/div[2]/div[1]/ul/li[6]/a\").text\n",
    "#pages = int(pages)\n",
    "pages = 3\n",
    "list_url = []\n",
    "\n",
    "for j in range(pages):\n",
    "        #pagina = str(j*8)\n",
    "        page = f'https://www.redfarma.cl/productos?familia=MEDICAMENTOS&pagina={j+1}'\n",
    "        print(page)"
   ]
  },
  {
   "cell_type": "code",
   "execution_count": 8,
   "metadata": {},
   "outputs": [
    {
     "name": "stdout",
     "output_type": "stream",
     "text": [
      "1\n",
      "2\n",
      "3\n"
     ]
    }
   ],
   "source": [
    "driver.get('https://www.redfarma.cl/productos?familia=MEDICAMENTOS')\n",
    "\n",
    "#pages = driver.find_element(By.XPATH,\"/html/body/div[2]/div[2]/section[2]/div[2]/div[1]/ul/li[6]/a\").text\n",
    "#pages = int(pages)\n",
    "pages = 3\n",
    "\n",
    "\n",
    "for j in range(pages):\n",
    "        #pagina = str(j*8)\n",
    "        page = f'https://www.redfarma.cl/productos?familia=MEDICAMENTOS&pagina={j+1}'\n",
    "        print(j+1)"
   ]
  },
  {
   "cell_type": "code",
   "execution_count": 9,
   "metadata": {},
   "outputs": [],
   "source": [
    "list_product_variables = []\n",
    "\n",
    "for url in list_url:\n",
    "    dic_product_variables = {}\n",
    "\n",
    "    driver_2.get(url)\n",
    "    dic_product_variables[\"link\"] = url\n",
    "\n",
    "    # Laboratory\n",
    "\n",
    "    try:\n",
    "        dic_product_variables[\"lab\"] = driver_2.find_element(By.XPATH,\"// div[contains(@class,'laboratorio')]\").text\n",
    "    except NoSuchElementException:\n",
    "        dic_product_variables[\"lab\"] = 'No Laboratory'\n",
    "\n",
    "    # Product description\n",
    "\n",
    "    try: #PROBLEM NO DESCRIPTION?\n",
    "        dic_product_variables[\"Product_description\"] = driver_2.find_element(By.XPATH,\"// div[contains(@class,'nombre')]/h1\").text\n",
    "    except NoSuchElementException:\n",
    "        dic_product_variables[\"Product_description\"] = 'No Description'\n",
    "\n",
    "    # Normal Price\n",
    "\n",
    "    try:  \n",
    "        dic_product_variables[\"Price_normal\"] = driver_2.find_element(By.XPATH,\"// div[contains(@class,'normal')]\").text\n",
    "    except NoSuchElementException:\n",
    "                dic_product_variables[\"Price_normal\"] = 'No price'\n",
    "\n",
    "    # Offer Price\n",
    "\n",
    "    try:\n",
    "        dic_product_variables[\"Price_offer\"] = driver_2.find_element(By.XPATH,\"// div[contains(@class,'oferta')]/\").text\n",
    "    except NoSuchElementException:\n",
    "        dic_product_variables[\"Price_offer\"] = '' \n",
    "        \n",
    "    # Prescription\n",
    "\n",
    "    try:\n",
    "        dic_product_variables[\"Prescription\"] = driver_2.find_element(By.XPATH,\"// div[contains(@class,'receta')]/\").text\n",
    "    except NoSuchElementException:\n",
    "        dic_product_variables[\"Prescription\"] = 'No prescription needed' \n",
    "\n",
    "\n",
    "    list_product_variables.append(dic_product_variables)\n",
    "\n",
    "df_red_pharma = pd.DataFrame(list_product_variables)\n",
    "    "
   ]
  },
  {
   "cell_type": "code",
   "execution_count": 10,
   "metadata": {},
   "outputs": [
    {
     "ename": "NameError",
     "evalue": "name 'dic_product_variables' is not defined",
     "output_type": "error",
     "traceback": [
      "\u001b[0;31m---------------------------------------------------------------------------\u001b[0m",
      "\u001b[0;31mNameError\u001b[0m                                 Traceback (most recent call last)",
      "\u001b[0;32m/var/folders/4t/fl3hklwd6zqcmg17s5qdk5r80000gn/T/ipykernel_13414/2617776471.py\u001b[0m in \u001b[0;36m<module>\u001b[0;34m\u001b[0m\n\u001b[0;32m----> 1\u001b[0;31m \u001b[0mdic_product_variables\u001b[0m\u001b[0;34m\u001b[0m\u001b[0;34m\u001b[0m\u001b[0m\n\u001b[0m",
      "\u001b[0;31mNameError\u001b[0m: name 'dic_product_variables' is not defined"
     ]
    }
   ],
   "source": [
    "dic_product_variables"
   ]
  },
  {
   "cell_type": "code",
   "execution_count": null,
   "metadata": {},
   "outputs": [],
   "source": [
    "df_red_pharma.head(10)"
   ]
  },
  {
   "cell_type": "code",
   "execution_count": null,
   "metadata": {},
   "outputs": [],
   "source": [
    "df_red_pharma.to_csv('red_pharma.csv',sep=';')"
   ]
  },
  {
   "cell_type": "code",
   "execution_count": null,
   "metadata": {},
   "outputs": [],
   "source": [
    "driver_2.get(list_url[0])\n",
    "driver_2.find_element(By.XPATH,\"//*[@id='maincontent']/div[1]/div[2]/div/div[3]/div[1]/div/a\").text\n"
   ]
  },
  {
   "cell_type": "code",
   "execution_count": null,
   "metadata": {},
   "outputs": [],
   "source": [
    "driver.get('https://www.cruzverde.cl/medicamentos/')\n",
    "list = driver.find_elements(By.XPATH,\"// div[contains(@class,'pdp-link')]/a[contains(@class,'link')]\")\n",
    "list_url = []\n",
    "\n",
    "list_url[0]"
   ]
  },
  {
   "cell_type": "code",
   "execution_count": null,
   "metadata": {},
   "outputs": [],
   "source": [
    "print(list_url[0].get_attribute('href'))"
   ]
  },
  {
   "cell_type": "code",
   "execution_count": null,
   "metadata": {},
   "outputs": [],
   "source": [
    "list_url"
   ]
  },
  {
   "cell_type": "code",
   "execution_count": null,
   "metadata": {},
   "outputs": [],
   "source": [
    "box_medicine = html.find_all(\"div\",{\"class\":\"pdp-link\"})\n",
    "\n",
    "list_url = driver.find_elements(By.CLASS_NAME,\"propertyCard-link\")\n"
   ]
  },
  {
   "cell_type": "code",
   "execution_count": null,
   "metadata": {},
   "outputs": [],
   "source": [
    "box = box_medicine[0]\n",
    "box.get_attribute('href')"
   ]
  }
 ],
 "metadata": {
  "interpreter": {
   "hash": "80e016a601b40200af72b1c14401ef1781c708f3f4f8b4b65ed8c89bceee24fa"
  },
  "kernelspec": {
   "display_name": "Python 3 (ipykernel)",
   "language": "python",
   "name": "python3"
  },
  "language_info": {
   "codemirror_mode": {
    "name": "ipython",
    "version": 3
   },
   "file_extension": ".py",
   "mimetype": "text/x-python",
   "name": "python",
   "nbconvert_exporter": "python",
   "pygments_lexer": "ipython3",
   "version": "3.9.7"
  }
 },
 "nbformat": 4,
 "nbformat_minor": 2
}
