{
 "cells": [
  {
   "cell_type": "markdown",
   "metadata": {},
   "source": [
    "### **Checkpoint 3**\n",
    "*Applied to Santiago, Chile*\n",
    "\n",
    "Our demo:\n",
    "* User is able to create an account\n",
    "* User enters address in html webpage\n",
    "* Html sends input to python script\n",
    "* Python script sends map and list to html\n",
    "* Html displays interactive map and list for user\n",
    "* User is able to access map/list items\n",
    "* Users perform searches, filling our databases"
   ]
  },
  {
   "cell_type": "code",
   "execution_count": 1,
   "metadata": {},
   "outputs": [],
   "source": [
    "# Basic imports\n",
    "import numpy as np\n",
    "import pandas as pd\n",
    "import json\n",
    "import requests\n",
    "import matplotlib.pyplot as plt\n",
    "import os\n",
    "import time\n",
    "import datetime\n",
    "\n",
    "# SQL imports\n",
    "import sqlite3\n",
    "\n",
    "# GIS imports\n",
    "import geopandas as gpd\n",
    "import geojson\n",
    "import h3\n",
    "import folium\n",
    "import osmnx as ox\n",
    "from shapely import wkt\n",
    "from folium.plugins import HeatMap\n",
    "from shapely.geometry import Polygon\n",
    "from geopy.geocoders import Nominatim\n",
    "from geopy.extra.rate_limiter import RateLimiter\n"
   ]
  },
  {
   "cell_type": "markdown",
   "metadata": {},
   "source": [
    "#### 1. User data"
   ]
  },
  {
   "cell_type": "code",
   "execution_count": null,
   "metadata": {},
   "outputs": [],
   "source": [
    "# Fake initial user dataset\n",
    "fake_users = pd.read_csv('fake_users.csv')"
   ]
  },
  {
   "cell_type": "code",
   "execution_count": null,
   "metadata": {},
   "outputs": [],
   "source": [
    "# Get user account creation from HTML"
   ]
  },
  {
   "cell_type": "code",
   "execution_count": null,
   "metadata": {},
   "outputs": [],
   "source": [
    "# User account added to DB\n",
    "\n",
    "def create_connect_database(db_name):\n",
    "    \"\"\"Opens connection or creates it if it is not existent\"\"\"\n",
    "    conn = sqlite3.connect(db_name)\n",
    "    c = conn.cursor()\n",
    "    \n",
    "    return conn, c"
   ]
  },
  {
   "cell_type": "code",
   "execution_count": null,
   "metadata": {},
   "outputs": [],
   "source": [
    "def new_account():\n",
    "    \"\"\"When a new account is created, it is added to the current user dataset.\"\"\"\n",
    "\n",
    "    create_connect_database('users.db')\n",
    "\n",
    "    unix = int(time.time())\n",
    "    username = str\n",
    "    name = str\n",
    "    sex = str\n",
    "    address = str\n",
    "    mail = str\n",
    "    birthdate = str(datetime.datetime.fromtimestamp(unix).strftime('%Y-%m-%d %H:%M:%S'))\n",
    "\n",
    "    c.execute(\"INSERT INTO fake_users(username, name, sex, address, mail, birthdate) VALUES (?, ?, ?, ?, ?, ?)\",\n",
    "          (username, name, sex, address, mail, birthdate))\n",
    "\n",
    "    conn.commit()\n",
    "    \n",
    "    return conn, c"
   ]
  },
  {
   "cell_type": "code",
   "execution_count": null,
   "metadata": {},
   "outputs": [],
   "source": [
    "def commit_close(conn, c, close_connection=True):\n",
    "    \"\"\"Commits to connection DB and closes it if close is True\"\"\"\n",
    "    conn.commit()\n",
    "\n",
    "    if close_connection is True:\n",
    "        c.close()\n",
    "        conn.close()\n",
    "    elif close_connection is False:\n",
    "        pass"
   ]
  },
  {
   "cell_type": "markdown",
   "metadata": {},
   "source": [
    "#### 2. User performs search"
   ]
  },
  {
   "cell_type": "code",
   "execution_count": null,
   "metadata": {},
   "outputs": [],
   "source": [
    "# Connection to our pharmacy data\n",
    "pharmacies = 'pharmacies.csv'"
   ]
  },
  {
   "cell_type": "code",
   "execution_count": null,
   "metadata": {},
   "outputs": [],
   "source": [
    "# User enters address through website form\n",
    "user = ''\n",
    "show = int"
   ]
  },
  {
   "cell_type": "code",
   "execution_count": null,
   "metadata": {},
   "outputs": [],
   "source": [
    "# Search information is stored"
   ]
  },
  {
   "cell_type": "code",
   "execution_count": null,
   "metadata": {},
   "outputs": [],
   "source": [
    "# Form input is used to get output\n",
    "def euclid_std(point_from, point_to, standard_deviations):\n",
    "    '''This function performs a calculation of the euclidean formula.'''\n",
    "    return sum(((point_from - point_to) / standard_deviations) ** 2) ** 0.5\n",
    "\n",
    "\n",
    "def euclid_diag(point_from, point_to, standard_deviations):\n",
    "    '''This function applies the euclidean formula to retrieve euclidean distance.'''\n",
    "    return euclid_std(point_from, point_to, standard_deviations) \\\n",
    "           * (np.prod(standard_deviations ** 2)) ** (1. / point_from.shape[0])\n",
    "\n",
    "# Defining map\n",
    "Santiago = folium.Map(location = [-33.447487, -70.673676], zoom_start = 10)\n",
    "\n",
    "geolocator = Nominatim(user_agent=\"data_care\")\n",
    "geocode = RateLimiter(geolocator.geocode, min_delay_seconds=1)\n",
    "\n",
    "user_pin = geolocator.geocode(user)\n",
    "user_lat = user_pin.latitude\n",
    "user_lon = user_pin.longitude\n",
    "\n",
    "folium.Marker([user_lat, user_lon], popup='You', icon=folium.Icon(color='red')).add_to(Santiago)\n",
    "\n",
    "# Getting closest pharmacies\n",
    "distances = []\n",
    "\n",
    "Latitudes = list(pharmacies.Latitude)\n",
    "Longitudes = list(pharmacies.Longitude)\n",
    "\n",
    "for lat, lon in zip(Latitudes,Longitudes):\n",
    "    distances.append(euclid_diag(np.array([lat,lon]), np.array([user_lat,user_lon]), 0.5))\n",
    "\n",
    "pharmacies['Distances'] = distances\n",
    "closest_pharmacies = pharmacies.sort_values(by='Distances')[:show]\n",
    "\n",
    "close_lat = list(closest_pharmacies.Latitude)\n",
    "close_lan = list(closest_pharmacies.Longitude)\n",
    "\n",
    "for lat, lan in zip(close_lat,close_lan):\n",
    "    folium.Marker([lat,lan]).add_to(Santiago)\n",
    "\n",
    "# Output\n",
    "list_output = closest_pharmacies[['Nombre Local','Location']].to_csv('list_output.csv')\n",
    "map_output = Santiago.save('Santiago.html')"
   ]
  },
  {
   "cell_type": "code",
   "execution_count": null,
   "metadata": {},
   "outputs": [],
   "source": [
    "# Output is displayed as HTML on website\n",
    "\n",
    "map_output"
   ]
  },
  {
   "cell_type": "code",
   "execution_count": null,
   "metadata": {},
   "outputs": [],
   "source": [
    "# User interacts with output"
   ]
  },
  {
   "cell_type": "code",
   "execution_count": null,
   "metadata": {},
   "outputs": [],
   "source": [
    "# Interaction with output is recorded"
   ]
  },
  {
   "cell_type": "code",
   "execution_count": null,
   "metadata": {},
   "outputs": [],
   "source": []
  }
 ],
 "metadata": {
  "interpreter": {
   "hash": "2d3125d698a9219943c1d119cac0a62030ebb28328ae69e90beea7551b05cfb1"
  },
  "kernelspec": {
   "display_name": "Python 3.8.8 ('base')",
   "language": "python",
   "name": "python3"
  },
  "language_info": {
   "codemirror_mode": {
    "name": "ipython",
    "version": 3
   },
   "file_extension": ".py",
   "mimetype": "text/x-python",
   "name": "python",
   "nbconvert_exporter": "python",
   "pygments_lexer": "ipython3",
   "version": "3.8.8"
  },
  "orig_nbformat": 4
 },
 "nbformat": 4,
 "nbformat_minor": 2
}
