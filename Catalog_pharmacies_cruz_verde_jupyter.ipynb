{
 "cells": [
  {
   "cell_type": "code",
   "execution_count": 12,
   "metadata": {},
   "outputs": [],
   "source": [
    "from selenium import webdriver\n",
    "from selenium.webdriver.chrome.options import Options\n",
    "from selenium.webdriver.chrome.service import Service\n",
    "from selenium.webdriver.common.by import By\n",
    "from selenium.common.exceptions import NoSuchElementException\n",
    "import time\n",
    "import pandas as pd\n",
    "import numpy as np\n",
    "import sqlite3"
   ]
  },
  {
   "cell_type": "code",
   "execution_count": 13,
   "metadata": {},
   "outputs": [],
   "source": [
    "# Conextions with Chrome Driver\n",
    "ser = Service(\"./chromedriver\")\n",
    "options = Options()\n",
    "options.headless = True\n",
    "options.add_argument(\"--window-size=1920,1200\")"
   ]
  },
  {
   "cell_type": "code",
   "execution_count": 14,
   "metadata": {},
   "outputs": [],
   "source": [
    "# Definition of drivers\n",
    "driver = webdriver.Chrome(options=options)\n",
    "driver_links = webdriver.Chrome(options=options)\n",
    "driver_2 = webdriver.Chrome(options=options)"
   ]
  },
  {
   "cell_type": "code",
   "execution_count": 15,
   "metadata": {},
   "outputs": [],
   "source": [
    "def get_url_from_catalog_CruzVerde():\n",
    "    # Access to Cruz Verde Web Site\n",
    "    driver.get('https://www.cruzverde.cl/medicamentos/')\n",
    "    pages = driver.find_element(By.XPATH,\"//*[@id='product-search-results']/div/div[2]/div/div[19]/div[2]/button[6]\").text\n",
    "    #pages = int(pages)\n",
    "    pages = 1\n",
    "    # List with URLs\n",
    "    list_url = []\n",
    "    # For loop to get URLs from catalog (Horizontal Web Scraping)\n",
    "    counter = 0\n",
    "    for j in range(pages):\n",
    "            n = str(j*18)\n",
    "            page = f'https://www.cruzverde.cl/medicamentos/?start={n}&sz=18&maxsize=18'\n",
    "            driver_links.get(page)\n",
    "            list = driver_links.find_elements(By.XPATH,\"//div[contains(@class,'pdp-link')]/a[contains(@class,'link')]\")\n",
    "            for i in range(len(list)):\n",
    "                    url = list[i].get_attribute('href')\n",
    "                    list_url.append(url)      \n",
    "            time.sleep(2)\n",
    "    return list_url"
   ]
  },
  {
   "cell_type": "code",
   "execution_count": 25,
   "metadata": {},
   "outputs": [],
   "source": [
    "def extract_info_web_site(list_url):\n",
    "    # Extract of information from URLs with products information\n",
    "    list_product_variables = []\n",
    "    for url in list_url:\n",
    "        dic_product_variables = {}\n",
    "        driver_2.get(url)\n",
    "        dic_product_variables[\"link\"] = url\n",
    "        # Laboratory\n",
    "        try:\n",
    "            dic_product_variables[\"lab\"] = driver_2.find_element(By.XPATH,\"// div[contains(@class,'row d-none d-lg-flex')]/div[contains(@class,'col')]/a\").text\n",
    "        except NoSuchElementException:\n",
    "            dic_product_variables[\"lab\"] = 'No Laboratory'\n",
    "        # Product description\n",
    "        try:\n",
    "            dic_product_variables[\"Product_description\"] = driver_2.find_element(By.XPATH,\"// div[contains(@class,'row d-none d-lg-flex')]/div[contains(@class,'col')]/h2\").text\n",
    "        except NoSuchElementException:\n",
    "            dic_product_variables[\"Product_description\"] = 'No Description'\n",
    "        # Normal Price\n",
    "        try:  \n",
    "            dic_product_variables[\"Price_normal\"] = driver_2.find_element(By.XPATH,\"//div[contains(@class,'prices')]/div[contains(@class,'price')]//span[@class='price-original']/span[@class='original-value']\").text\n",
    "        except NoSuchElementException:\n",
    "            try:\n",
    "                dic_product_variables[\"Price_normal\"] = driver_2.find_element(By.XPATH,\"//*[@id='maincontent']/div[1]/div[3]/div/div[3]/div[2]/div/span/span[2]/span/span[2]/span/div/span\").text\n",
    "            except NoSuchElementException:\n",
    "                try:\n",
    "                    dic_product_variables[\"Price_normal\"] = driver_2.find_element(By.XPATH,\"//*[@id='maincontent']/div[1]/div[2]/div/div[3]/div[2]/div/span/span[2]/span/span[2]/span/div/span\").text\n",
    "                except NoSuchElementException:\n",
    "                    dic_product_variables[\"Price_normal\"] = 'No price'\n",
    "        # Club Price\n",
    "        try:\n",
    "            dic_product_variables[\"Price_club\"] = driver_2.find_element(By.XPATH,\"// div[contains(@class,'prices')]/div[contains(@class,'price')]/span/span[contains(@class,'sales d-flex flex-wrap mb-1 align-items-center')]//span[@class = 'value pr-2']\").text\n",
    "        except NoSuchElementException:\n",
    "            dic_product_variables[\"Price_club\"] = ''\n",
    "        # Offer Price\n",
    "        try:\n",
    "            dic_product_variables[\"Price_offer\"] = driver_2.find_element(By.XPATH,\"// div[contains(@class,'prices')]/div[contains(@class,'price')]/span/span[contains(@class,'sales d-flex flex-wrap mb-1 align-items-center')]//span[@class = 'value']\").text\n",
    "        except NoSuchElementException:\n",
    "            dic_product_variables[\"Price_offer\"] = '' \n",
    "        \n",
    "        list_product_variables.append(dic_product_variables)\n",
    "\n",
    "    df_cruz_verde = pd.DataFrame(list_product_variables)\n",
    "    return df_cruz_verde\n"
   ]
  },
  {
   "cell_type": "code",
   "execution_count": 17,
   "metadata": {},
   "outputs": [],
   "source": [
    "# CREATE TABLE Catalog_cruz_verde\n",
    "def create_if_not_exist_cruz_verde():\n",
    "    c.execute(\"\"\"CREATE TABLE IF NOT EXISTS Catalog_cruz_verde(link TEXT, \n",
    "                                            lab TEXT, \n",
    "                                            Product_description TEXT, \n",
    "                                            Price_normal TEXT,\n",
    "                                            Price_club TEXT,\n",
    "                                            Price_offer TEXT)\"\"\")"
   ]
  },
  {
   "cell_type": "code",
   "execution_count": 18,
   "metadata": {},
   "outputs": [],
   "source": [
    "# INSERT DATA INTO SQL TABLE\n",
    "def insert_df_sql_cruz_verde(df_cruz_verde):\n",
    "    for ind in df_cruz_verde.index:\n",
    "        c.execute(\"insert into Catalog_cruz_verde VALUES(?,?,?,?,?,?)\",\\\n",
    "        (df_cruz_verde.link[ind],\\\n",
    "        df_cruz_verde.lab[ind],\\\n",
    "        df_cruz_verde.Product_description[ind],\\\n",
    "        df_cruz_verde.Price_normal[ind],\\\n",
    "        df_cruz_verde.Price_club[ind],\\\n",
    "        df_cruz_verde.Price_offer[ind]))"
   ]
  },
  {
   "cell_type": "code",
   "execution_count": 19,
   "metadata": {},
   "outputs": [],
   "source": [
    "conn = sqlite3.connect('Catalog_pharmacies.db')\n",
    "c = conn.cursor()"
   ]
  },
  {
   "cell_type": "code",
   "execution_count": 26,
   "metadata": {},
   "outputs": [],
   "source": [
    "create_if_not_exist_cruz_verde()\n",
    "conn.commit()\n",
    "insert_df_sql_cruz_verde(extract_info_web_site(get_url_from_catalog_CruzVerde()))\n",
    "conn.commit()\n",
    "c.close()\n",
    "conn.close()"
   ]
  }
 ],
 "metadata": {
  "interpreter": {
   "hash": "2a3698d77d558b8234d440feb82e19257619158cd57838848e2ff3723de4a3df"
  },
  "kernelspec": {
   "display_name": "Python 3.8.5 ('base')",
   "language": "python",
   "name": "python3"
  },
  "language_info": {
   "codemirror_mode": {
    "name": "ipython",
    "version": 3
   },
   "file_extension": ".py",
   "mimetype": "text/x-python",
   "name": "python",
   "nbconvert_exporter": "python",
   "pygments_lexer": "ipython3",
   "version": "3.8.5"
  },
  "orig_nbformat": 4
 },
 "nbformat": 4,
 "nbformat_minor": 2
}
